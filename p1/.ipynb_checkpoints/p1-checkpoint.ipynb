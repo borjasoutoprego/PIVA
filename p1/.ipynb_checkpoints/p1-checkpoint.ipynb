{
 "cells": [
  {
   "cell_type": "code",
   "execution_count": 9,
   "id": "872d28e8",
   "metadata": {},
   "outputs": [
    {
     "name": "stdout",
     "output_type": "stream",
     "text": [
      "(512, 512, 3)\n"
     ]
    },
    {
     "data": {
      "text/plain": [
       "numpy.ndarray"
      ]
     },
     "execution_count": 9,
     "metadata": {},
     "output_type": "execute_result"
    }
   ],
   "source": [
    "import skimage\n",
    "lena1 = skimage.io.imread(\"lena.png\")\n",
    "\n",
    "shape= lena1.shape\n",
    "print(shape)\n",
    "\n",
    "import numpy as np\n",
    "\n",
    "np.max(lena1)\n",
    "np.min(lena1)\n",
    "\n",
    "type(lena1)"
   ]
  },
  {
   "cell_type": "code",
   "execution_count": null,
   "id": "f16bb671",
   "metadata": {},
   "outputs": [],
   "source": [
    "lena2 = io.imread(\"./imagen/imagen.png\", as_gray = True)\n",
    "\n",
    "# plt.subplot(1,2,...)\n",
    "\n",
    "\n",
    "# 1.2 b)\n",
    "#io.imsave(\"./resultados\", lena1.astype(np.uint8)) -> a uint8 porque 255 = 2**8\n",
    "# u indica sin signo, si fuera con signo seria de -128 a 128, así es de 0 a 255\n",
    "\n"
   ]
  },
  {
   "cell_type": "code",
   "execution_count": null,
   "id": "d197fa70",
   "metadata": {},
   "outputs": [],
   "source": [
    "# 1.3\n",
    "# a) llamar a la funcion con los argumentos, nada mas\n",
    "\n",
    "\n",
    "# b)imshow con sublots\n",
    "# np.min, np.max\n",
    "\n",
    "# c) indicar un par de ejemplos y demostrar que sabemos como funciona"
   ]
  },
  {
   "cell_type": "code",
   "execution_count": null,
   "id": "1a7c7ccf",
   "metadata": {},
   "outputs": [],
   "source": [
    "# 1.4\n",
    "# lo paso a flotante con img_as_float\n",
    "# a) funcion copy\n",
    "\n",
    "# b) mascara binaria - cada pixel represente true/false\n",
    "# rango dinamico es entre maximo y minimo \n",
    "# 0.5*(max-min)\n",
    "\n",
    "# c)\n",
    "# solamente donde tengo true cojo los valores de forma aleatoria\n",
    "# \n",
    "\n",
    "# d)\n",
    "# astronaut(:,:,2) -> se equivoco en el indice 2, debe ser 1\n",
    "\n",
    "# e)\n",
    "# "
   ]
  },
  {
   "cell_type": "code",
   "execution_count": null,
   "id": "7b7d9e64",
   "metadata": {},
   "outputs": [],
   "source": [
    "## 2\n",
    "# subplot(3,3)\n",
    "# "
   ]
  }
 ],
 "metadata": {
  "kernelspec": {
   "display_name": "Python 3 (ipykernel)",
   "language": "python",
   "name": "python3"
  },
  "language_info": {
   "codemirror_mode": {
    "name": "ipython",
    "version": 3
   },
   "file_extension": ".py",
   "mimetype": "text/x-python",
   "name": "python",
   "nbconvert_exporter": "python",
   "pygments_lexer": "ipython3",
   "version": "3.9.12"
  }
 },
 "nbformat": 4,
 "nbformat_minor": 5
}
